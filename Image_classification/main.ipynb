{
 "cells": [
  {
   "cell_type": "code",
   "execution_count": 1,
   "id": "6cc43129",
   "metadata": {},
   "outputs": [],
   "source": [
    "import torch\n",
    "import torch.nn as nn\n",
    "import torch.optim as optim\n",
    "from torch.utils.data import DataLoader, random_split\n",
    "import torchvision\n",
    "from torchvision import transforms\n",
    "from sklearn.metrics import classification_report, confusion_matrix\n",
    "import matplotlib.pyplot as plt\n",
    "import numpy as np"
   ]
  },
  {
   "cell_type": "code",
   "execution_count": 2,
   "id": "65d87b46",
   "metadata": {},
   "outputs": [
    {
     "name": "stderr",
     "output_type": "stream",
     "text": [
      "100%|██████████| 94.3M/94.3M [00:19<00:00, 4.93MB/s]\n"
     ]
    }
   ],
   "source": [
    "device = torch.device('cuda' if torch.cuda.is_available() else 'cpu')\n",
    "\n",
    "batch_size = 64\n",
    "learning_rate = 0.001\n",
    "num_epochs = 15\n",
    "\n",
    "transform_train = transforms.Compose([\n",
    "    transforms.RandomHorizontalFlip(),\n",
    "    transforms.RandomVerticalFlip(),\n",
    "    transforms.RandomRotation(10),\n",
    "    transforms.ToTensor(),\n",
    "    transforms.Normalize((0.5, 0.5, 0.5), (0.5, 0.5, 0.5)),\n",
    "])\n",
    "\n",
    "transform_test = transforms.Compose([\n",
    "    transforms.ToTensor(),\n",
    "    transforms.Normalize((0.5, 0.5, 0.5), (0.5, 0.5, 0.5)),\n",
    "])\n",
    "\n",
    "full_dataset = torchvision.datasets.EuroSAT(\n",
    "    root='./data', \n",
    "    download=True,\n",
    "    transform=transform_train\n",
    ")"
   ]
  },
  {
   "cell_type": "code",
   "execution_count": 3,
   "id": "c8fee4e4",
   "metadata": {},
   "outputs": [],
   "source": [
    "train_size = int(0.8 * len(full_dataset))\n",
    "test_size = len(full_dataset) - train_size\n",
    "train_dataset, test_dataset = random_split(full_dataset, [train_size, test_size])\n",
    "\n",
    "test_dataset.dataset.transform = transform_test\n",
    "\n",
    "train_loader = DataLoader(train_dataset, batch_size=batch_size, shuffle=True, num_workers=4)\n",
    "test_loader = DataLoader(test_dataset, batch_size=batch_size, shuffle=False, num_workers=4)\n",
    "\n",
    "class SatelliteCNN(nn.Module):\n",
    "    def __init__(self):\n",
    "        super(SatelliteCNN, self).__init__()\n",
    "        self.features = nn.Sequential(\n",
    "            nn.Conv2d(3, 32, kernel_size=3, padding=1),\n",
    "            nn.ReLU(),\n",
    "            nn.BatchNorm2d(32),\n",
    "            nn.Conv2d(32, 32, kernel_size=3, padding=1),\n",
    "            nn.ReLU(),\n",
    "            nn.BatchNorm2d(32),\n",
    "            nn.MaxPool2d(2, 2),\n",
    "            \n",
    "            nn.Conv2d(32, 64, kernel_size=3, padding=1),\n",
    "            nn.ReLU(),\n",
    "            nn.BatchNorm2d(64),\n",
    "            nn.Conv2d(64, 64, kernel_size=3, padding=1),\n",
    "            nn.ReLU(),\n",
    "            nn.BatchNorm2d(64),\n",
    "            nn.MaxPool2d(2, 2),\n",
    "            \n",
    "            nn.Conv2d(64, 128, kernel_size=3, padding=1),\n",
    "            nn.ReLU(),\n",
    "            nn.BatchNorm2d(128),\n",
    "            nn.Conv2d(128, 128, kernel_size=3, padding=1),\n",
    "            nn.ReLU(),\n",
    "            nn.BatchNorm2d(128),\n",
    "            nn.AdaptiveAvgPool2d((4, 4))\n",
    "            \n",
    "        )\n",
    "        \n",
    "        self.classifier = nn.Sequential(\n",
    "            nn.Linear(128 * 4 * 4, 512),\n",
    "            nn.ReLU(),\n",
    "            nn.Dropout(0.5),\n",
    "            nn.Linear(512, 256),\n",
    "            nn.ReLU(),\n",
    "            nn.Dropout(0.5),\n",
    "            nn.Linear(256, 10)\n",
    "        )\n",
    "\n",
    "    def forward(self, x):\n",
    "        x = self.features(x)\n",
    "        x = torch.flatten(x, 1)\n",
    "        x = self.classifier(x)\n",
    "        return x\n"
   ]
  },
  {
   "cell_type": "code",
   "execution_count": 4,
   "id": "bc56ffb2",
   "metadata": {},
   "outputs": [
    {
     "name": "stdout",
     "output_type": "stream",
     "text": [
      "Epoch [1/15] | Train Loss: 0.9860 | Train Acc: 66.38% | Val Acc: 73.35%\n",
      "Epoch [2/15] | Train Loss: 0.6054 | Train Acc: 80.29% | Val Acc: 80.48%\n",
      "Epoch [3/15] | Train Loss: 0.4678 | Train Acc: 85.25% | Val Acc: 86.81%\n",
      "Epoch [4/15] | Train Loss: 0.3829 | Train Acc: 88.18% | Val Acc: 79.46%\n",
      "Epoch [5/15] | Train Loss: 0.3504 | Train Acc: 89.26% | Val Acc: 90.28%\n",
      "Epoch [6/15] | Train Loss: 0.2861 | Train Acc: 91.15% | Val Acc: 93.15%\n",
      "Epoch [7/15] | Train Loss: 0.2405 | Train Acc: 92.62% | Val Acc: 92.04%\n",
      "Epoch [8/15] | Train Loss: 0.2269 | Train Acc: 92.88% | Val Acc: 91.24%\n",
      "Epoch [9/15] | Train Loss: 0.2020 | Train Acc: 93.91% | Val Acc: 90.26%\n",
      "Epoch [10/15] | Train Loss: 0.2027 | Train Acc: 93.95% | Val Acc: 94.81%\n",
      "Epoch [11/15] | Train Loss: 0.1715 | Train Acc: 94.76% | Val Acc: 93.15%\n",
      "Epoch [12/15] | Train Loss: 0.1758 | Train Acc: 94.62% | Val Acc: 85.13%\n",
      "Epoch [13/15] | Train Loss: 0.1531 | Train Acc: 95.30% | Val Acc: 94.98%\n",
      "Epoch [14/15] | Train Loss: 0.1346 | Train Acc: 95.98% | Val Acc: 94.31%\n",
      "Epoch [15/15] | Train Loss: 0.1315 | Train Acc: 96.14% | Val Acc: 94.59%\n"
     ]
    }
   ],
   "source": [
    "model = SatelliteCNN().to(device)\n",
    "criterion = nn.CrossEntropyLoss()\n",
    "optimizer = optim.AdamW(model.parameters(), lr=learning_rate, weight_decay=1e-4)\n",
    "scheduler = optim.lr_scheduler.ReduceLROnPlateau(optimizer, 'min', patience=2)\n",
    "\n",
    "best_accuracy = 0.0\n",
    "train_losses = []\n",
    "val_accuracies = []\n",
    "\n",
    "for epoch in range(num_epochs):\n",
    "    model.train()\n",
    "    running_loss = 0.0\n",
    "    correct = 0\n",
    "    total = 0\n",
    "    \n",
    "    for images, labels in train_loader:\n",
    "        images = images.to(device)\n",
    "        labels = labels.to(device)\n",
    "        \n",
    "        optimizer.zero_grad()\n",
    "        outputs = model(images)\n",
    "        loss = criterion(outputs, labels)\n",
    "        loss.backward()\n",
    "        optimizer.step()\n",
    "        \n",
    "        _, predicted = torch.max(outputs.data, 1)\n",
    "        total += labels.size(0)\n",
    "        correct += (predicted == labels).sum().item()\n",
    "        running_loss += loss.item()\n",
    "    \n",
    "    train_loss = running_loss / len(train_loader)\n",
    "    train_acc = 100 * correct / total\n",
    "    train_losses.append(train_loss)\n",
    "    \n",
    "    model.eval()\n",
    "    val_correct = 0\n",
    "    val_total = 0\n",
    "    with torch.no_grad():\n",
    "        for images, labels in test_loader:\n",
    "            images = images.to(device)\n",
    "            labels = labels.to(device)\n",
    "            outputs = model(images)\n",
    "            _, predicted = torch.max(outputs.data, 1)\n",
    "            val_total += labels.size(0)\n",
    "            val_correct += (predicted == labels).sum().item()\n",
    "    \n",
    "    val_acc = 100 * val_correct / val_total\n",
    "    val_accuracies.append(val_acc)\n",
    "    scheduler.step(train_loss)\n",
    "    \n",
    "    print(f'Epoch [{epoch+1}/{num_epochs}] | '\n",
    "          f'Train Loss: {train_loss:.4f} | '\n",
    "          f'Train Acc: {train_acc:.2f}% | '\n",
    "          f'Val Acc: {val_acc:.2f}%')\n",
    "    \n",
    "    if val_acc > best_accuracy:\n",
    "        best_accuracy = val_acc\n",
    "        torch.save(model.state_dict(), 'best_model.pth')"
   ]
  },
  {
   "cell_type": "code",
   "execution_count": 5,
   "id": "cfa283cd",
   "metadata": {},
   "outputs": [
    {
     "name": "stdout",
     "output_type": "stream",
     "text": [
      "\n",
      "Best Validation Accuracy: 94.98%\n"
     ]
    }
   ],
   "source": [
    "print(f'\\nBest Validation Accuracy: {best_accuracy:.2f}%')"
   ]
  },
  {
   "cell_type": "code",
   "execution_count": 6,
   "id": "d8a5db02",
   "metadata": {},
   "outputs": [
    {
     "name": "stdout",
     "output_type": "stream",
     "text": [
      "\n",
      "Classification Report:\n",
      "                      precision    recall  f1-score   support\n",
      "\n",
      "          AnnualCrop     0.9481    0.9481    0.9481       578\n",
      "              Forest     0.9950    0.9631    0.9788       623\n",
      "HerbaceousVegetation     0.9252    0.8177    0.8682       620\n",
      "             Highway     0.9662    0.9681    0.9672       502\n",
      "          Industrial     0.9744    0.9880    0.9812       501\n",
      "             Pasture     0.9406    0.9496    0.9451       417\n",
      "       PermanentCrop     0.8221    0.9390    0.8767       492\n",
      "         Residential     0.9932    0.9881    0.9906       589\n",
      "               River     0.9724    0.9522    0.9622       481\n",
      "             SeaLake     0.9597    0.9966    0.9778       597\n",
      "\n",
      "            accuracy                         0.9498      5400\n",
      "           macro avg     0.9497    0.9511    0.9496      5400\n",
      "        weighted avg     0.9513    0.9498    0.9497      5400\n",
      "\n"
     ]
    }
   ],
   "source": [
    "model.load_state_dict(torch.load('best_model.pth'))\n",
    "model.eval()\n",
    "all_preds = []\n",
    "all_labels = []\n",
    "\n",
    "with torch.no_grad():\n",
    "    for images, labels in test_loader:\n",
    "        images = images.to(device)\n",
    "        outputs = model(images)\n",
    "        _, predicted = torch.max(outputs.data, 1)\n",
    "        all_preds.extend(predicted.cpu().numpy())\n",
    "        all_labels.extend(labels.cpu().numpy())\n",
    "\n",
    "class_names = ('AnnualCrop', 'Forest', 'HerbaceousVegetation', 'Highway',\n",
    "               'Industrial', 'Pasture', 'PermanentCrop', 'Residential',\n",
    "               'River', 'SeaLake')\n",
    "\n",
    "print('\\nClassification Report:')\n",
    "print(classification_report(all_labels, all_preds, target_names=class_names, digits=4))"
   ]
  },
  {
   "cell_type": "code",
   "execution_count": 7,
   "id": "353cb0e1",
   "metadata": {},
   "outputs": [
    {
     "name": "stdout",
     "output_type": "stream",
     "text": [
      "\n",
      "Confusion Matrix:\n",
      "[[548   1   0   0   0   6   6   0   2  15]\n",
      " [  0 600  12   0   0   8   0   0   0   3]\n",
      " [  8   0 507   1   0   6  91   3   1   3]\n",
      " [  1   1   4 486   2   0   0   0   8   0]\n",
      " [  0   0   0   4 495   0   1   0   1   0]\n",
      " [  3   0  14   2   0 396   1   0   0   1]\n",
      " [ 11   0   7   3   5   3 462   1   0   0]\n",
      " [  0   0   0   1   6   0   0 582   0   0]\n",
      " [  7   1   4   6   0   1   1   0 458   3]\n",
      " [  0   0   0   0   0   1   0   0   1 595]]\n"
     ]
    }
   ],
   "source": [
    "print('\\nConfusion Matrix:')\n",
    "print(confusion_matrix(all_labels, all_preds))"
   ]
  },
  {
   "cell_type": "code",
   "execution_count": 8,
   "id": "4c429f20",
   "metadata": {},
   "outputs": [
    {
     "data": {
      "image/png": "[encoded data removed]",
      "text/plain": [
       "<Figure size 1200x500 with 2 Axes>"
      ]
     },
     "metadata": {},
     "output_type": "display_data"
    }
   ],
   "source": [
    "plt.figure(figsize=(12, 5))\n",
    "plt.subplot(1, 2, 1)\n",
    "plt.plot(train_losses, label='Training Loss')\n",
    "plt.title('Training Loss')\n",
    "plt.xlabel('Epoch')\n",
    "plt.ylabel('Loss')\n",
    "\n",
    "plt.subplot(1, 2, 2)\n",
    "plt.plot(val_accuracies, label='Validation Accuracy')\n",
    "plt.title('Validation Accuracy')\n",
    "plt.xlabel('Epoch')\n",
    "plt.ylabel('Accuracy (%)')\n",
    "plt.tight_layout()\n",
    "plt.show()"
   ]
  }
 ],
 "metadata": {
  "kernelspec": {
   "display_name": "base",
   "language": "python",
   "name": "python3"
  },
  "language_info": {
   "codemirror_mode": {
    "name": "ipython",
    "version": 3
   },
   "file_extension": ".py",
   "mimetype": "text/x-python",
   "name": "python",
   "nbconvert_exporter": "python",
   "pygments_lexer": "ipython3",
   "version": "3.12.7"
  }
 },
 "nbformat": 4,
 "nbformat_minor": 5
}
